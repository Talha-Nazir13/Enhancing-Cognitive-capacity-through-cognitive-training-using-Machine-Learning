{
 "cells": [
  {
   "cell_type": "markdown",
   "id": "4495cfd5",
   "metadata": {},
   "source": [
    "# Importing libraries"
   ]
  },
  {
   "cell_type": "code",
   "execution_count": 1,
   "id": "9b281f95",
   "metadata": {},
   "outputs": [],
   "source": [
    "import numpy as np\n",
    "import scipy.io\n",
    "import matplotlib.pyplot as plt\n",
    "import seaborn as sns\n",
    "from sklearn.model_selection import train_test_split\n",
    "from sklearn.preprocessing import StandardScaler\n",
    "from sklearn.svm import SVC\n",
    "from sklearn.ensemble import RandomForestClassifier\n",
    "from sklearn.neighbors import KNeighborsClassifier\n",
    "from sklearn.metrics import confusion_matrix, accuracy_score, classification_report\n",
    "import warnings\n",
    "\n",
    "# Filter out warnings\n",
    "warnings.filterwarnings('ignore')"
   ]
  },
  {
   "cell_type": "markdown",
   "id": "3e06587f",
   "metadata": {},
   "source": [
    "# Data Loading"
   ]
  },
  {
   "cell_type": "code",
   "execution_count": 2,
   "id": "58280a78",
   "metadata": {},
   "outputs": [],
   "source": [
    "# Load .mat files\n",
    "training_mat = scipy.io.loadmat('Training.mat')\n",
    "control_mat = scipy.io.loadmat('Control.mat')\n",
    "\n",
    "# Extract data from .mat files\n",
    "training1_mat = training_mat['training1']\n",
    "training2_mat = training_mat['training2']\n",
    "control1_mat = control_mat['control1']\n",
    "control2_mat = control_mat['control2']\n",
    "\n",
    "# Load .npz files\n",
    "training_npz = np.load('Training.npz')\n",
    "control_npz = np.load('Control.npz')\n",
    "\n",
    "# Extract data from .npz files\n",
    "training1_npz = training_npz['training1']\n",
    "training2_npz = training_npz['training2']\n",
    "control1_npz = control_npz['control1']\n",
    "control2_npz = control_npz['control2']\n",
    "\n",
    "# Combine data from .mat files\n",
    "training_combined_mat = np.concatenate((training1_mat, training2_mat), axis=2)\n",
    "control_combined_mat = np.concatenate((control1_mat, control2_mat), axis=2)\n",
    "X_mat = np.concatenate((training_combined_mat, control_combined_mat), axis=2)\n",
    "X_mat = np.reshape(X_mat, (X_mat.shape[2], -1))\n",
    "\n",
    "# Combine data from .npz files\n",
    "training_combined_npz = np.concatenate((training1_npz, training2_npz), axis=2)\n",
    "control_combined_npz = np.concatenate((control1_npz, control2_npz), axis=2)\n",
    "X_npz = np.concatenate((training_combined_npz, control_combined_npz), axis=2)\n",
    "X_npz = np.reshape(X_npz, (X_npz.shape[2], -1))\n",
    "\n",
    "# Concatenate all data\n",
    "X = np.concatenate((X_mat, X_npz), axis=0)\n",
    "\n",
    "# Create labels (1 for training, 0 for control)\n",
    "labels_mat = np.concatenate((np.ones(training_combined_mat.shape[2]), np.zeros(control_combined_mat.shape[2])), axis=0)\n",
    "labels_npz = np.concatenate((np.ones(training_combined_npz.shape[2]), np.zeros(control_combined_npz.shape[2])), axis=0)\n",
    "\n",
    "# Concatenate labels\n",
    "y = np.concatenate((labels_mat, labels_npz), axis=0)\n",
    "\n",
    "# Standardize the features\n",
    "scaler = StandardScaler()\n",
    "X_scaled = scaler.fit_transform(X)"
   ]
  },
  {
   "cell_type": "markdown",
   "id": "cecee1dc",
   "metadata": {},
   "source": [
    "# Train test Split"
   ]
  },
  {
   "cell_type": "code",
   "execution_count": 3,
   "id": "21a43109",
   "metadata": {},
   "outputs": [],
   "source": [
    "# Split the data into training and test sets\n",
    "X_train, X_test, y_train, y_test = train_test_split(X_scaled, y, test_size=0.2, random_state=42, stratify=y)"
   ]
  },
  {
   "cell_type": "markdown",
   "id": "75b09aae",
   "metadata": {},
   "source": [
    "# Train and evaluate a RandomForestClassifier"
   ]
  },
  {
   "cell_type": "code",
   "execution_count": 4,
   "id": "313036bc",
   "metadata": {},
   "outputs": [
    {
     "name": "stdout",
     "output_type": "stream",
     "text": [
      "Random Forest Classifier Accuracy: 0.88\n",
      "Classification Report for Random Forest:\n",
      "               precision    recall  f1-score   support\n",
      "\n",
      "         0.0       0.91      0.80      0.85       151\n",
      "         1.0       0.86      0.94      0.90       203\n",
      "\n",
      "    accuracy                           0.88       354\n",
      "   macro avg       0.89      0.87      0.88       354\n",
      "weighted avg       0.88      0.88      0.88       354\n",
      "\n"
     ]
    },
    {
     "data": {
      "image/png": "[encoded data removed]",
      "text/plain": [
       "<Figure size 640x480 with 2 Axes>"
      ]
     },
     "metadata": {},
     "output_type": "display_data"
    }
   ],
   "source": [
    "# Train and evaluate a RandomForestClassifier\n",
    "rf = RandomForestClassifier(random_state=42)\n",
    "rf.fit(X_train, y_train)\n",
    "y_pred_rf = rf.predict(X_test)\n",
    "\n",
    "# Evaluate the RandomForestClassifier\n",
    "accuracy_rf = accuracy_score(y_test, y_pred_rf)\n",
    "print(f\"Random Forest Classifier Accuracy: {accuracy_rf:.2f}\")\n",
    "print(\"Classification Report for Random Forest:\\n\", classification_report(y_test, y_pred_rf))\n",
    "\n",
    "# Confusion matrix for RandomForestClassifier\n",
    "cm_rf = confusion_matrix(y_test, y_pred_rf)\n",
    "sns.heatmap(cm_rf, annot=True, fmt=\"d\", cmap=\"Blues\")\n",
    "plt.title(\"Confusion Matrix - Random Forest\")\n",
    "plt.show()"
   ]
  },
  {
   "cell_type": "markdown",
   "id": "ba96340a",
   "metadata": {},
   "source": [
    "# Tuned Random Forest Classifier"
   ]
  },
  {
   "cell_type": "code",
   "execution_count": 5,
   "id": "cd4580f2",
   "metadata": {},
   "outputs": [
    {
     "name": "stdout",
     "output_type": "stream",
     "text": [
      "Fitting 3 folds for each of 10 candidates, totalling 30 fits\n",
      "Best parameters for RandomForestClassifier: {'n_estimators': 100, 'min_samples_split': 2, 'min_samples_leaf': 2, 'max_depth': 20}\n",
      "Tuned Random Forest Classifier Accuracy: 0.92\n",
      "Classification Report for Random Forest:\n",
      "               precision    recall  f1-score   support\n",
      "\n",
      "         0.0       0.97      0.83      0.89       151\n",
      "         1.0       0.88      0.98      0.93       203\n",
      "\n",
      "    accuracy                           0.92       354\n",
      "   macro avg       0.93      0.90      0.91       354\n",
      "weighted avg       0.92      0.92      0.91       354\n",
      "\n"
     ]
    }
   ],
   "source": [
    "from sklearn.model_selection import RandomizedSearchCV\n",
    "from sklearn.ensemble import RandomForestClassifier\n",
    "\n",
    "# Define the parameter grid for RandomForestClassifier\n",
    "rf_param_grid = {\n",
    "    'n_estimators': [100, 200, 300],\n",
    "    'max_depth': [None, 10, 20],\n",
    "    'min_samples_split': [2, 5],\n",
    "    'min_samples_leaf': [1, 2]\n",
    "}\n",
    "\n",
    "# Initialize the RandomForestClassifier\n",
    "rf = RandomForestClassifier(random_state=42)\n",
    "\n",
    "# Initialize RandomizedSearchCV\n",
    "rf_random = RandomizedSearchCV(estimator=rf, param_distributions=rf_param_grid, \n",
    "                               n_iter=10, cv=3, random_state=42, n_jobs=-1, verbose=2)\n",
    "\n",
    "# Fit RandomizedSearchCV to the data\n",
    "rf_random.fit(X_train, y_train)\n",
    "\n",
    "# Get the best parameters and estimator\n",
    "best_rf = rf_random.best_estimator_\n",
    "print(\"Best parameters for RandomForestClassifier:\", rf_random.best_params_)\n",
    "\n",
    "# Evaluate the tuned RandomForestClassifier\n",
    "y_pred_rf = best_rf.predict(X_test)\n",
    "print(f\"Tuned Random Forest Classifier Accuracy: {accuracy_score(y_test, y_pred_rf):.2f}\")\n",
    "print(\"Classification Report for Random Forest:\\n\", classification_report(y_test, y_pred_rf))\n"
   ]
  },
  {
   "cell_type": "markdown",
   "id": "36b1b7ce",
   "metadata": {},
   "source": [
    "# Train and evaluate an SVM"
   ]
  },
  {
   "cell_type": "code",
   "execution_count": 6,
   "id": "95f196b6",
   "metadata": {},
   "outputs": [
    {
     "name": "stdout",
     "output_type": "stream",
     "text": [
      "SVM Classifier Accuracy: 0.82\n",
      "Classification Report for SVM:\n",
      "               precision    recall  f1-score   support\n",
      "\n",
      "         0.0       0.83      0.73      0.77       151\n",
      "         1.0       0.81      0.89      0.85       203\n",
      "\n",
      "    accuracy                           0.82       354\n",
      "   macro avg       0.82      0.81      0.81       354\n",
      "weighted avg       0.82      0.82      0.82       354\n",
      "\n"
     ]
    },
    {
     "data": {
      "image/png": "[encoded data removed]",
      "text/plain": [
       "<Figure size 640x480 with 2 Axes>"
      ]
     },
     "metadata": {},
     "output_type": "display_data"
    }
   ],
   "source": [
    "# Train and evaluate an SVM\n",
    "svm = SVC(random_state=42)\n",
    "svm.fit(X_train, y_train)\n",
    "y_pred_svm = svm.predict(X_test)\n",
    "\n",
    "# Evaluate the SVM\n",
    "accuracy_svm = accuracy_score(y_test, y_pred_svm)\n",
    "print(f\"SVM Classifier Accuracy: {accuracy_svm:.2f}\")\n",
    "print(\"Classification Report for SVM:\\n\", classification_report(y_test, y_pred_svm))\n",
    "\n",
    "# Confusion matrix for SVM\n",
    "cm_svm = confusion_matrix(y_test, y_pred_svm)\n",
    "sns.heatmap(cm_svm, annot=True, fmt=\"d\", cmap=\"Greens\")\n",
    "plt.title(\"Confusion Matrix - SVM\")\n",
    "plt.show()\n",
    "\n"
   ]
  },
  {
   "cell_type": "markdown",
   "id": "ce2ffd5b",
   "metadata": {},
   "source": [
    "# Tuned SVM"
   ]
  },
  {
   "cell_type": "code",
   "execution_count": 7,
   "id": "62bba2e2",
   "metadata": {},
   "outputs": [
    {
     "name": "stdout",
     "output_type": "stream",
     "text": [
      "Fitting 3 folds for each of 10 candidates, totalling 30 fits\n",
      "Best parameters for SVM: {'kernel': 'rbf', 'gamma': 1, 'C': 100}\n",
      "Tuned SVM Classifier Accuracy: 0.91\n",
      "Classification Report for SVM:\n",
      "               precision    recall  f1-score   support\n",
      "\n",
      "         0.0       1.00      0.79      0.88       151\n",
      "         1.0       0.86      1.00      0.93       203\n",
      "\n",
      "    accuracy                           0.91       354\n",
      "   macro avg       0.93      0.89      0.90       354\n",
      "weighted avg       0.92      0.91      0.91       354\n",
      "\n"
     ]
    }
   ],
   "source": [
    "from sklearn.model_selection import RandomizedSearchCV\n",
    "from sklearn.svm import SVC\n",
    "\n",
    "# Define the parameter grid for SVM\n",
    "svm_param_grid = {\n",
    "    'C': [0.1, 1, 10, 100],\n",
    "    'gamma': [1, 0.1, 0.01, 0.001],\n",
    "    'kernel': ['rbf', 'linear']\n",
    "}\n",
    "\n",
    "# Initialize the SVM classifier\n",
    "svm = SVC(random_state=42)\n",
    "\n",
    "# Initialize RandomizedSearchCV\n",
    "svm_random = RandomizedSearchCV(estimator=svm, param_distributions=svm_param_grid, \n",
    "                                n_iter=10, cv=3, random_state=42, n_jobs=-1, verbose=2)\n",
    "\n",
    "# Fit RandomizedSearchCV to the data\n",
    "svm_random.fit(X_train, y_train)\n",
    "\n",
    "# Get the best parameters and estimator\n",
    "best_svm = svm_random.best_estimator_\n",
    "print(\"Best parameters for SVM:\", svm_random.best_params_)\n",
    "\n",
    "# Evaluate the tuned SVM\n",
    "y_pred_svm = best_svm.predict(X_test)\n",
    "print(f\"Tuned SVM Classifier Accuracy: {accuracy_score(y_test, y_pred_svm):.2f}\")\n",
    "print(\"Classification Report for SVM:\\n\", classification_report(y_test, y_pred_svm))\n"
   ]
  },
  {
   "cell_type": "markdown",
   "id": "f57cde5f",
   "metadata": {},
   "source": [
    "# Train and evaluate a KNeighbors Classifier"
   ]
  },
  {
   "cell_type": "code",
   "execution_count": 8,
   "id": "838d2ddf",
   "metadata": {},
   "outputs": [
    {
     "name": "stdout",
     "output_type": "stream",
     "text": [
      "KNN Classifier Accuracy: 0.57\n",
      "Classification Report for KNN:\n",
      "               precision    recall  f1-score   support\n",
      "\n",
      "         0.0       0.49      0.23      0.31       151\n",
      "         1.0       0.59      0.82      0.68       203\n",
      "\n",
      "    accuracy                           0.57       354\n",
      "   macro avg       0.54      0.52      0.50       354\n",
      "weighted avg       0.54      0.57      0.53       354\n",
      "\n"
     ]
    },
    {
     "data": {
      "image/png": "[encoded data removed]",
      "text/plain": [
       "<Figure size 640x480 with 2 Axes>"
      ]
     },
     "metadata": {},
     "output_type": "display_data"
    }
   ],
   "source": [
    "# Train and evaluate a KNeighborsClassifier\n",
    "knn = KNeighborsClassifier(n_neighbors=5)\n",
    "knn.fit(X_train, y_train)\n",
    "y_pred_knn = knn.predict(X_test)\n",
    "\n",
    "# Evaluate the KNeighborsClassifier\n",
    "accuracy_knn = accuracy_score(y_test, y_pred_knn)\n",
    "print(f\"KNN Classifier Accuracy: {accuracy_knn:.2f}\")\n",
    "print(\"Classification Report for KNN:\\n\", classification_report(y_test, y_pred_knn))\n",
    "\n",
    "# Confusion matrix for KNN\n",
    "cm_knn = confusion_matrix(y_test, y_pred_knn)\n",
    "sns.heatmap(cm_knn, annot=True, fmt=\"d\", cmap=\"Reds\")\n",
    "plt.title(\"Confusion Matrix - KNN\")\n",
    "plt.show()\n"
   ]
  },
  {
   "cell_type": "markdown",
   "id": "4681fd38",
   "metadata": {},
   "source": [
    "# Tuned KNN"
   ]
  },
  {
   "cell_type": "code",
   "execution_count": 9,
   "id": "c740b5d5",
   "metadata": {},
   "outputs": [
    {
     "name": "stdout",
     "output_type": "stream",
     "text": [
      "Fitting 3 folds for each of 10 candidates, totalling 30 fits\n",
      "Best parameters for KNN: {'weights': 'distance', 'n_neighbors': 7, 'metric': 'minkowski'}\n",
      "Tuned KNN Classifier Accuracy: 0.89\n",
      "Classification Report for KNN:\n",
      "               precision    recall  f1-score   support\n",
      "\n",
      "         0.0       0.94      0.79      0.86       151\n",
      "         1.0       0.86      0.96      0.91       203\n",
      "\n",
      "    accuracy                           0.89       354\n",
      "   macro avg       0.90      0.87      0.88       354\n",
      "weighted avg       0.89      0.89      0.89       354\n",
      "\n"
     ]
    }
   ],
   "source": [
    "from sklearn.model_selection import RandomizedSearchCV\n",
    "from sklearn.neighbors import KNeighborsClassifier\n",
    "\n",
    "# Define the parameter grid for KNN\n",
    "knn_param_grid = {\n",
    "    'n_neighbors': [3, 5, 7, 9],\n",
    "    'weights': ['uniform', 'distance'],\n",
    "    'metric': ['euclidean', 'manhattan', 'minkowski']\n",
    "}\n",
    "\n",
    "# Initialize the KNN classifier\n",
    "knn = KNeighborsClassifier()\n",
    "\n",
    "# Initialize RandomizedSearchCV\n",
    "knn_random = RandomizedSearchCV(estimator=knn, param_distributions=knn_param_grid, \n",
    "                                n_iter=10, cv=3, random_state=42, n_jobs=-1, verbose=2)\n",
    "\n",
    "# Fit RandomizedSearchCV to the data\n",
    "knn_random.fit(X_train, y_train)\n",
    "\n",
    "# Get the best parameters and estimator\n",
    "best_knn = knn_random.best_estimator_\n",
    "print(\"Best parameters for KNN:\", knn_random.best_params_)\n",
    "\n",
    "# Evaluate the tuned KNN\n",
    "y_pred_knn = best_knn.predict(X_test)\n",
    "print(f\"Tuned KNN Classifier Accuracy: {accuracy_score(y_test, y_pred_knn):.2f}\")\n",
    "print(\"Classification Report for KNN:\\n\", classification_report(y_test, y_pred_knn))\n"
   ]
  }
 ],
 "metadata": {
  "kernelspec": {
   "display_name": "Python 3 (ipykernel)",
   "language": "python",
   "name": "python3"
  },
  "language_info": {
   "codemirror_mode": {
    "name": "ipython",
    "version": 3
   },
   "file_extension": ".py",
   "mimetype": "text/x-python",
   "name": "python",
   "nbconvert_exporter": "python",
   "pygments_lexer": "ipython3",
   "version": "3.11.5"
  }
 },
 "nbformat": 4,
 "nbformat_minor": 5
}
